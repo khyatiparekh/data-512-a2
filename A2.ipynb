{
 "cells": [
  {
   "cell_type": "markdown",
   "metadata": {},
   "source": [
    "## A2 - Bias in Data"
   ]
  },
  {
   "cell_type": "markdown",
   "metadata": {},
   "source": [
    "### Project Overview"
   ]
  },
  {
   "cell_type": "markdown",
   "metadata": {},
   "source": [
    "The goal of this project is to explore the concept of 'bias' through data on Wikipedia articles on political figures from different countries. "
   ]
  },
  {
   "cell_type": "markdown",
   "metadata": {},
   "source": [
    "The dataset includes the set of political articles on Wikipedia, the predicted article quality scores for those articles, and a dataset of country populations."
   ]
  },
  {
   "cell_type": "markdown",
   "metadata": {},
   "source": [
    "The series of plots will be as follows:  \n",
    "1) the countries with the greatest and least coverage of politicians on Wikipedia compared to their population.  \n",
    "2) the countries with the highest and lowest proportion of high quality articles about politicians."
   ]
  },
  {
   "cell_type": "markdown",
   "metadata": {},
   "source": [
    "## Part 1 - Getting the data"
   ]
  },
  {
   "cell_type": "markdown",
   "metadata": {},
   "source": [
    "### The Wikipedia dataset"
   ]
  },
  {
   "cell_type": "markdown",
   "metadata": {},
   "source": [
    "The wikipedia dataset can be found on Figshare. This was extracted using the Wikimedia API, saved as a csv file named page_data.csv. The columns in this file are:    \n",
    "1) country: the name of the country  \n",
    "2) page: the wikipedia article title  \n",
    "3) rev_id: the revision id for the last edit of the page"
   ]
  },
  {
   "cell_type": "code",
   "execution_count": 186,
   "metadata": {
    "collapsed": true
   },
   "outputs": [],
   "source": [
    "\"\"\"\n",
    "    This cell reads the page_data csv file into the dataframe \"data\" from the file page_data.csv.\n",
    "    The shape of this dataframe is (47197,3).\n",
    "    \n",
    "\"\"\"\n",
    "import pandas as pd\n",
    "\n",
    "data = pd.read_csv('page_data.csv')"
   ]
  },
  {
   "cell_type": "markdown",
   "metadata": {},
   "source": [
    "### The Population dataset"
   ]
  },
  {
   "cell_type": "markdown",
   "metadata": {},
   "source": [
    "The population data is from Population Research Bureau website.http://www.prb.org/DataFinder/Topic/Rankings.aspx?ind=14. The dataset has 5 columns: Location, Location Type, TimeFrame, Data Type, Data and Footnotes. I removed the unnecessary columns so that I could focus on the analysis part of the project without any superfluous data."
   ]
  },
  {
   "cell_type": "code",
   "execution_count": null,
   "metadata": {
    "collapsed": true
   },
   "outputs": [],
   "source": []
  },
  {
   "cell_type": "code",
   "execution_count": 205,
   "metadata": {
    "collapsed": true
   },
   "outputs": [],
   "source": [
    "pop = pd.read_csv('Population_Mid_2015.csv',header=1)\n",
    "del pop['Location Type']\n",
    "del pop['TimeFrame']\n",
    "del pop['Data Type']\n",
    "del pop['Footnotes']"
   ]
  },
  {
   "cell_type": "markdown",
   "metadata": {},
   "source": [
    "To make the merging of the two dataframes easier, I changed the 'Location' column name to 'country'."
   ]
  },
  {
   "cell_type": "code",
   "execution_count": 206,
   "metadata": {},
   "outputs": [],
   "source": [
    "pop.columns = ['country','population']"
   ]
  },
  {
   "cell_type": "code",
   "execution_count": 253,
   "metadata": {},
   "outputs": [],
   "source": [
    "pop['population'] = pop['population'].str.replace(',', '')"
   ]
  },
  {
   "cell_type": "code",
   "execution_count": 254,
   "metadata": {
    "collapsed": true
   },
   "outputs": [],
   "source": [
    "pop['population'] = [int(x) for x in pop['population'].values.tolist()]"
   ]
  },
  {
   "cell_type": "markdown",
   "metadata": {},
   "source": [
    "### Article quality prediction"
   ]
  },
  {
   "cell_type": "markdown",
   "metadata": {},
   "source": [
    "The predicted quality scores for each article in the Wikipedia dataset comes from a Wikimedia API endpoint for a machine learning system called ORES (\"Objective Revision Evaluation Service\"). ORES estimates the quality of an article at a particular point in time, and assigns a series of probabilities that the article is best described by one of the categories listed below.\n"
   ]
  },
  {
   "cell_type": "markdown",
   "metadata": {},
   "source": [
    " "
   ]
  },
  {
   "cell_type": "markdown",
   "metadata": {},
   "source": [
    "The range of quality scores are, from best to worst:  \n",
    "FA - Featured article  \n",
    "GA - Good article  \n",
    "B - B-class article  \n",
    "C - C-class article  \n",
    "Start - Start-class article  \n",
    "Stub - Stub-class article  \n"
   ]
  },
  {
   "cell_type": "code",
   "execution_count": 105,
   "metadata": {
    "collapsed": true
   },
   "outputs": [],
   "source": [
    "import requests\n",
    "import json\n",
    "\n",
    "headers = {'User-Agent' : 'https://github.com/your_github_username', 'From' : 'your_uw_email@uw.edu'}\n",
    "\"\"\"\n",
    "    Taken from the example jupyter notebook, this function returns a json object containing the ORES data \n",
    "    for each article with revision id as 'revids'. \n",
    "    An example of the json object is as follows:\n",
    "    {'enwiki': {'models': {'wp10': {'version': '0.5.0'}},\n",
    "  'scores': {'235107991': {'wp10': {'score': {'prediction': 'Stub',\n",
    "      'probability': {'B': 0.00617021706415532,\n",
    "       'C': 0.01705290459462909,\n",
    "       'FA': 0.0015941304170005732,\n",
    "       'GA': 0.0012422843354764665,\n",
    "       'Start': 0.024596904658825667,\n",
    "       'Stub': 0.9493435589299127}}}}}}}\n",
    "\"\"\"\n",
    "\n",
    "def get_ores_data(revision_ids, headers):\n",
    "    \n",
    "    # Define the endpoint\n",
    "    endpoint = 'https://ores.wikimedia.org/v3/scores/{project}/?models={model}&revids={revids}'\n",
    "    \n",
    "    params = {'project' : 'enwiki',\n",
    "              'model'   : 'wp10',\n",
    "              'revids'  : '|'.join(str(x) for x in revision_ids)\n",
    "              }\n",
    "    api_call = requests.get(endpoint.format(**params))\n",
    "    response = api_call.json()\n",
    "    return response"
   ]
  },
  {
   "cell_type": "markdown",
   "metadata": {},
   "source": []
  },
  {
   "cell_type": "markdown",
   "metadata": {},
   "source": [
    "After trying to run the above function on all the revision ids present in the data, I found that there were revision ids that could not be found by the ORES API. I separated those revision Ids and found the article qualities for the ones that the function could run for."
   ]
  },
  {
   "cell_type": "code",
   "execution_count": 165,
   "metadata": {
    "scrolled": true
   },
   "outputs": [],
   "source": [
    "\"\"\"\n",
    "    This bit of code extracts the value of the prediction from the JSON and puts it in a list aq (article qualities) \n",
    "    In this for loop, I call the get_ores_data function for a group of 100 revision ids at a time.\n",
    "\"\"\"\n",
    "\n",
    "aq = [] #aq = article qualities\n",
    "for i in range(0,46700,100):\n",
    "    ores_data = get_ores_data(data[\"rev_id\"][i:(i + 100)] ,headers)\n",
    "    for a in ores_data['enwiki']['scores']:\n",
    "        aq.append(ores_data['enwiki']['scores'][a]['wp10']['score']['prediction'])\n"
   ]
  },
  {
   "cell_type": "code",
   "execution_count": 166,
   "metadata": {},
   "outputs": [],
   "source": [
    "\"\"\"\n",
    "    This cell appends other values after index 46700 to aq which will then be added as a column to \n",
    "    the 'data' dataframe. \n",
    "\"\"\"\n",
    "\n",
    "ores_data = get_ores_data(data[\"rev_id\"][46700:46800] ,headers)\n",
    "for a in ores_data['enwiki']['scores']:\n",
    "    aq.append(ores_data['enwiki']['scores'][a]['wp10']['score']['prediction'])\n",
    "\n",
    "ores_data = get_ores_data(data[\"rev_id\"][46800:46861] ,headers)\n",
    "for a in ores_data['enwiki']['scores']:\n",
    "    aq.append(ores_data['enwiki']['scores'][a]['wp10']['score']['prediction'])\n",
    "\n",
    "ores_data = get_ores_data([data[\"rev_id\"][46861]] ,headers)\n",
    "for a in ores_data['enwiki']['scores']:\n",
    "    aq.append(ores_data['enwiki']['scores'][a]['wp10']['score']['prediction'])\n",
    "\n",
    "ores_data = get_ores_data([data[\"rev_id\"][46864]],headers)\n",
    "for a in ores_data['enwiki']['scores']:\n",
    "    aq.append(ores_data['enwiki']['scores'][a]['wp10']['score']['prediction'])\n",
    "\n",
    "    \n",
    "ores_data = get_ores_data(data[\"rev_id\"][46865:46900] ,headers)\n",
    "for a in ores_data['enwiki']['scores']:\n",
    "    aq.append(ores_data['enwiki']['scores'][a]['wp10']['score']['prediction'])\n",
    "\n",
    "ores_data = get_ores_data(data[\"rev_id\"][46900:47000] ,headers)\n",
    "for a in ores_data['enwiki']['scores']:\n",
    "    aq.append(ores_data['enwiki']['scores'][a]['wp10']['score']['prediction'])\n",
    "\n",
    "ores_data = get_ores_data(data[\"rev_id\"][47000:47100] ,headers)\n",
    "for a in ores_data['enwiki']['scores']:\n",
    "    aq.append(ores_data['enwiki']['scores'][a]['wp10']['score']['prediction'])\n",
    "\n",
    "ores_data = get_ores_data(data[\"rev_id\"][47100:47200] ,headers)\n",
    "for a in ores_data['enwiki']['scores']:\n",
    "    aq.append(ores_data['enwiki']['scores'][a]['wp10']['score']['prediction'])\n"
   ]
  },
  {
   "cell_type": "code",
   "execution_count": 167,
   "metadata": {},
   "outputs": [
    {
     "data": {
      "text/plain": [
       "{'enwiki': {'models': {'wp10': {'version': '0.5.0'}},\n",
       "  'scores': {'807367030': {'wp10': {'error': {'message': 'RevisionNotFound: Could not find revision ({revision}:807367030)',\n",
       "      'type': 'RevisionNotFound'}}}}}}"
      ]
     },
     "execution_count": 167,
     "metadata": {},
     "output_type": "execute_result"
    }
   ],
   "source": [
    "get_ores_data([data[\"rev_id\"][46862]] ,headers)\n"
   ]
  },
  {
   "cell_type": "code",
   "execution_count": 168,
   "metadata": {},
   "outputs": [
    {
     "data": {
      "text/plain": [
       "{'enwiki': {'models': {'wp10': {'version': '0.5.0'}},\n",
       "  'scores': {'807367166': {'wp10': {'error': {'message': 'RevisionNotFound: Could not find revision ({revision}:807367166)',\n",
       "      'type': 'RevisionNotFound'}}}}}}"
      ]
     },
     "execution_count": 168,
     "metadata": {},
     "output_type": "execute_result"
    }
   ],
   "source": [
    "get_ores_data([data[\"rev_id\"][46863]] ,headers)"
   ]
  },
  {
   "cell_type": "markdown",
   "metadata": {},
   "source": [
    "Dropping the rows with indices 46862 and 46863"
   ]
  },
  {
   "cell_type": "code",
   "execution_count": 187,
   "metadata": {},
   "outputs": [],
   "source": [
    "data.drop(46832, inplace=True)\n",
    "data.drop(46833, inplace=True)"
   ]
  },
  {
   "cell_type": "code",
   "execution_count": 189,
   "metadata": {},
   "outputs": [],
   "source": [
    "data['article_quality'] = aq"
   ]
  },
  {
   "cell_type": "code",
   "execution_count": 191,
   "metadata": {},
   "outputs": [
    {
     "data": {
      "text/html": [
       "<div>\n",
       "<style>\n",
       "    .dataframe thead tr:only-child th {\n",
       "        text-align: right;\n",
       "    }\n",
       "\n",
       "    .dataframe thead th {\n",
       "        text-align: left;\n",
       "    }\n",
       "\n",
       "    .dataframe tbody tr th {\n",
       "        vertical-align: top;\n",
       "    }\n",
       "</style>\n",
       "<table border=\"1\" class=\"dataframe\">\n",
       "  <thead>\n",
       "    <tr style=\"text-align: right;\">\n",
       "      <th></th>\n",
       "      <th>page</th>\n",
       "      <th>country</th>\n",
       "      <th>rev_id</th>\n",
       "      <th>article_quality</th>\n",
       "    </tr>\n",
       "  </thead>\n",
       "  <tbody>\n",
       "    <tr>\n",
       "      <th>0</th>\n",
       "      <td>Template:ZambiaProvincialMinisters</td>\n",
       "      <td>Zambia</td>\n",
       "      <td>235107991</td>\n",
       "      <td>Stub</td>\n",
       "    </tr>\n",
       "    <tr>\n",
       "      <th>1</th>\n",
       "      <td>Bir I of Kanem</td>\n",
       "      <td>Chad</td>\n",
       "      <td>355319463</td>\n",
       "      <td>Stub</td>\n",
       "    </tr>\n",
       "    <tr>\n",
       "      <th>2</th>\n",
       "      <td>Template:Zimbabwe-politician-stub</td>\n",
       "      <td>Zimbabwe</td>\n",
       "      <td>391862046</td>\n",
       "      <td>Stub</td>\n",
       "    </tr>\n",
       "    <tr>\n",
       "      <th>3</th>\n",
       "      <td>Template:Uganda-politician-stub</td>\n",
       "      <td>Uganda</td>\n",
       "      <td>391862070</td>\n",
       "      <td>Stub</td>\n",
       "    </tr>\n",
       "    <tr>\n",
       "      <th>4</th>\n",
       "      <td>Template:Namibia-politician-stub</td>\n",
       "      <td>Namibia</td>\n",
       "      <td>391862409</td>\n",
       "      <td>Stub</td>\n",
       "    </tr>\n",
       "  </tbody>\n",
       "</table>\n",
       "</div>"
      ],
      "text/plain": [
       "                                 page   country     rev_id article_quality\n",
       "0  Template:ZambiaProvincialMinisters    Zambia  235107991            Stub\n",
       "1                      Bir I of Kanem      Chad  355319463            Stub\n",
       "2   Template:Zimbabwe-politician-stub  Zimbabwe  391862046            Stub\n",
       "3     Template:Uganda-politician-stub    Uganda  391862070            Stub\n",
       "4    Template:Namibia-politician-stub   Namibia  391862409            Stub"
      ]
     },
     "execution_count": 191,
     "metadata": {},
     "output_type": "execute_result"
    }
   ],
   "source": [
    "data.head()"
   ]
  },
  {
   "cell_type": "markdown",
   "metadata": {
    "collapsed": true
   },
   "source": [
    "### Merging the datasets"
   ]
  },
  {
   "cell_type": "markdown",
   "metadata": {},
   "source": [
    "In the following cell, I have merged the data and the population dataframes for the final datafame which I will use for analysis."
   ]
  },
  {
   "cell_type": "code",
   "execution_count": 207,
   "metadata": {},
   "outputs": [],
   "source": [
    "final_df = data.merge(pop, on = 'country', how='inner')"
   ]
  },
  {
   "cell_type": "code",
   "execution_count": 208,
   "metadata": {},
   "outputs": [],
   "source": [
    "\"\"\"\n",
    "    Renaming the columns of the dataframe to make it easier to perform analysis\n",
    "\"\"\"\n",
    "final_df.columns= ['article_name','country','rev_id','article_quality','population']"
   ]
  },
  {
   "cell_type": "code",
   "execution_count": 209,
   "metadata": {},
   "outputs": [
    {
     "data": {
      "text/html": [
       "<div>\n",
       "<style>\n",
       "    .dataframe thead tr:only-child th {\n",
       "        text-align: right;\n",
       "    }\n",
       "\n",
       "    .dataframe thead th {\n",
       "        text-align: left;\n",
       "    }\n",
       "\n",
       "    .dataframe tbody tr th {\n",
       "        vertical-align: top;\n",
       "    }\n",
       "</style>\n",
       "<table border=\"1\" class=\"dataframe\">\n",
       "  <thead>\n",
       "    <tr style=\"text-align: right;\">\n",
       "      <th></th>\n",
       "      <th>article_name</th>\n",
       "      <th>country</th>\n",
       "      <th>rev_id</th>\n",
       "      <th>article_quality</th>\n",
       "      <th>population</th>\n",
       "    </tr>\n",
       "  </thead>\n",
       "  <tbody>\n",
       "    <tr>\n",
       "      <th>0</th>\n",
       "      <td>Template:ZambiaProvincialMinisters</td>\n",
       "      <td>Zambia</td>\n",
       "      <td>235107991</td>\n",
       "      <td>Stub</td>\n",
       "      <td>15,473,900</td>\n",
       "    </tr>\n",
       "    <tr>\n",
       "      <th>1</th>\n",
       "      <td>Gladys Lundwe</td>\n",
       "      <td>Zambia</td>\n",
       "      <td>757566606</td>\n",
       "      <td>Stub</td>\n",
       "      <td>15,473,900</td>\n",
       "    </tr>\n",
       "    <tr>\n",
       "      <th>2</th>\n",
       "      <td>Mwamba Luchembe</td>\n",
       "      <td>Zambia</td>\n",
       "      <td>764848643</td>\n",
       "      <td>Stub</td>\n",
       "      <td>15,473,900</td>\n",
       "    </tr>\n",
       "    <tr>\n",
       "      <th>3</th>\n",
       "      <td>Thandiwe Banda</td>\n",
       "      <td>Zambia</td>\n",
       "      <td>768166426</td>\n",
       "      <td>Start</td>\n",
       "      <td>15,473,900</td>\n",
       "    </tr>\n",
       "    <tr>\n",
       "      <th>4</th>\n",
       "      <td>Sylvester Chisembele</td>\n",
       "      <td>Zambia</td>\n",
       "      <td>776082926</td>\n",
       "      <td>C</td>\n",
       "      <td>15,473,900</td>\n",
       "    </tr>\n",
       "  </tbody>\n",
       "</table>\n",
       "</div>"
      ],
      "text/plain": [
       "                         article_name country     rev_id article_quality  \\\n",
       "0  Template:ZambiaProvincialMinisters  Zambia  235107991            Stub   \n",
       "1                       Gladys Lundwe  Zambia  757566606            Stub   \n",
       "2                     Mwamba Luchembe  Zambia  764848643            Stub   \n",
       "3                      Thandiwe Banda  Zambia  768166426           Start   \n",
       "4                Sylvester Chisembele  Zambia  776082926               C   \n",
       "\n",
       "   population  \n",
       "0  15,473,900  \n",
       "1  15,473,900  \n",
       "2  15,473,900  \n",
       "3  15,473,900  \n",
       "4  15,473,900  "
      ]
     },
     "execution_count": 209,
     "metadata": {},
     "output_type": "execute_result"
    }
   ],
   "source": [
    "final_df.head()"
   ]
  },
  {
   "cell_type": "code",
   "execution_count": null,
   "metadata": {
    "collapsed": true
   },
   "outputs": [],
   "source": []
  },
  {
   "cell_type": "markdown",
   "metadata": {
    "collapsed": true
   },
   "source": [
    "## Part 2 - Analysis\n"
   ]
  },
  {
   "cell_type": "markdown",
   "metadata": {},
   "source": [
    "The analysis calculates the proportion (as a percentage) of articles-per-population and high-quality articles for each country. \"High quality\" articles are defined as articles about politicians that ORES predicted would be in either the \"FA\" (featured article) or \"GA\" (good article) classes"
   ]
  },
  {
   "cell_type": "markdown",
   "metadata": {},
   "source": [
    "Examples:  \n",
    ". if a country has a population of 10,000 people, and you found 10 articles about politicians from that country, then the percentage of articles-per-population would be .1%.  \n",
    ". if a country has 10 articles about politicians, and 2 of them are FA or GA class articles, then the percentage of high-quality articles would be 20%."
   ]
  },
  {
   "cell_type": "code",
   "execution_count": 288,
   "metadata": {
    "collapsed": true
   },
   "outputs": [],
   "source": [
    "#Getting total number of articles for each country\n",
    "df_temp = final_df[['country','article_name']].groupby('country').count()"
   ]
  },
  {
   "cell_type": "code",
   "execution_count": 289,
   "metadata": {},
   "outputs": [],
   "source": [
    "df_temp = df_temp.reset_index()"
   ]
  },
  {
   "cell_type": "code",
   "execution_count": null,
   "metadata": {},
   "outputs": [],
   "source": []
  },
  {
   "cell_type": "code",
   "execution_count": 303,
   "metadata": {
    "collapsed": true
   },
   "outputs": [],
   "source": [
    "#Since population is an important factor in the analysis, we merge the population dataframe with the above data frame\n",
    "article_pop = df_temp.merge(pop,on='country',how='inner')"
   ]
  },
  {
   "cell_type": "code",
   "execution_count": null,
   "metadata": {},
   "outputs": [],
   "source": []
  },
  {
   "cell_type": "code",
   "execution_count": 304,
   "metadata": {},
   "outputs": [],
   "source": [
    "article_pop.columns = ['country','total_articles','population']"
   ]
  },
  {
   "cell_type": "code",
   "execution_count": 305,
   "metadata": {},
   "outputs": [],
   "source": [
    "#Calculating the percentage of articles per country\n",
    "article_pop['perc_articles_pop']=article_pop['total_articles']/article_pop['population']\n",
    "article_pop['perc_articles_pop'] = article_pop['perc_articles_pop']*100"
   ]
  },
  {
   "cell_type": "code",
   "execution_count": 306,
   "metadata": {},
   "outputs": [],
   "source": [
    "# calculating the proportion of high-quality (\"FA\" or \"GA\") articles for each country.\n",
    "hq = pd.concat([final_df.loc[final_df['article_quality']=='FA'], final_df.loc[final_df['article_quality']=='GA']])"
   ]
  },
  {
   "cell_type": "code",
   "execution_count": 307,
   "metadata": {},
   "outputs": [],
   "source": [
    "hq_count = hq.groupby('country').count()['article_name']"
   ]
  },
  {
   "cell_type": "code",
   "execution_count": 308,
   "metadata": {},
   "outputs": [],
   "source": [
    "hq_count = hq_count.to_frame().reset_index()"
   ]
  },
  {
   "cell_type": "code",
   "execution_count": 311,
   "metadata": {},
   "outputs": [],
   "source": [
    "hq_perc = pd.merge(hq_count,article_pop,on='country',how='inner')"
   ]
  },
  {
   "cell_type": "code",
   "execution_count": 316,
   "metadata": {},
   "outputs": [],
   "source": [
    "hq_perc['high_quality_perc'] = hq_perc['article_name']/hq_perc['total_articles']*100"
   ]
  },
  {
   "cell_type": "code",
   "execution_count": 317,
   "metadata": {},
   "outputs": [
    {
     "data": {
      "text/html": [
       "<div>\n",
       "<style>\n",
       "    .dataframe thead tr:only-child th {\n",
       "        text-align: right;\n",
       "    }\n",
       "\n",
       "    .dataframe thead th {\n",
       "        text-align: left;\n",
       "    }\n",
       "\n",
       "    .dataframe tbody tr th {\n",
       "        vertical-align: top;\n",
       "    }\n",
       "</style>\n",
       "<table border=\"1\" class=\"dataframe\">\n",
       "  <thead>\n",
       "    <tr style=\"text-align: right;\">\n",
       "      <th></th>\n",
       "      <th>country</th>\n",
       "      <th>high_quality_perc</th>\n",
       "    </tr>\n",
       "  </thead>\n",
       "  <tbody>\n",
       "    <tr>\n",
       "      <th>0</th>\n",
       "      <td>Afghanistan</td>\n",
       "      <td>5.810398</td>\n",
       "    </tr>\n",
       "    <tr>\n",
       "      <th>1</th>\n",
       "      <td>Albania</td>\n",
       "      <td>1.086957</td>\n",
       "    </tr>\n",
       "    <tr>\n",
       "      <th>2</th>\n",
       "      <td>Algeria</td>\n",
       "      <td>2.521008</td>\n",
       "    </tr>\n",
       "    <tr>\n",
       "      <th>3</th>\n",
       "      <td>Angola</td>\n",
       "      <td>1.818182</td>\n",
       "    </tr>\n",
       "    <tr>\n",
       "      <th>4</th>\n",
       "      <td>Argentina</td>\n",
       "      <td>3.225806</td>\n",
       "    </tr>\n",
       "  </tbody>\n",
       "</table>\n",
       "</div>"
      ],
      "text/plain": [
       "       country  high_quality_perc\n",
       "0  Afghanistan           5.810398\n",
       "1      Albania           1.086957\n",
       "2      Algeria           2.521008\n",
       "3       Angola           1.818182\n",
       "4    Argentina           3.225806"
      ]
     },
     "execution_count": 317,
     "metadata": {},
     "output_type": "execute_result"
    }
   ],
   "source": [
    "hq_plot = hq_perc[['country','high_quality_perc']]\n",
    "hq_plot.head()"
   ]
  },
  {
   "cell_type": "markdown",
   "metadata": {},
   "source": [
    "### Visualizations"
   ]
  },
  {
   "cell_type": "code",
   "execution_count": 318,
   "metadata": {
    "collapsed": true
   },
   "outputs": [],
   "source": [
    "#First we sort the countries according to their high quality percentage values\n",
    "hq_asc = hq_plot.sort_values(['high_quality_perc'],ascending=True, inplace=False, axis=0)"
   ]
  },
  {
   "cell_type": "code",
   "execution_count": 322,
   "metadata": {},
   "outputs": [
    {
     "data": {
      "text/html": [
       "<div>\n",
       "<style>\n",
       "    .dataframe thead tr:only-child th {\n",
       "        text-align: right;\n",
       "    }\n",
       "\n",
       "    .dataframe thead th {\n",
       "        text-align: left;\n",
       "    }\n",
       "\n",
       "    .dataframe tbody tr th {\n",
       "        vertical-align: top;\n",
       "    }\n",
       "</style>\n",
       "<table border=\"1\" class=\"dataframe\">\n",
       "  <thead>\n",
       "    <tr style=\"text-align: right;\">\n",
       "      <th></th>\n",
       "      <th>country</th>\n",
       "      <th>high_quality_perc</th>\n",
       "    </tr>\n",
       "  </thead>\n",
       "  <tbody>\n",
       "    <tr>\n",
       "      <th>42</th>\n",
       "      <td>Finland</td>\n",
       "      <td>0.174825</td>\n",
       "    </tr>\n",
       "    <tr>\n",
       "      <th>131</th>\n",
       "      <td>Tanzania</td>\n",
       "      <td>0.245098</td>\n",
       "    </tr>\n",
       "    <tr>\n",
       "      <th>95</th>\n",
       "      <td>Nepal</td>\n",
       "      <td>0.275482</td>\n",
       "    </tr>\n",
       "    <tr>\n",
       "      <th>107</th>\n",
       "      <td>Peru</td>\n",
       "      <td>0.282486</td>\n",
       "    </tr>\n",
       "    <tr>\n",
       "      <th>77</th>\n",
       "      <td>Lithuania</td>\n",
       "      <td>0.403226</td>\n",
       "    </tr>\n",
       "    <tr>\n",
       "      <th>89</th>\n",
       "      <td>Moldova</td>\n",
       "      <td>0.469484</td>\n",
       "    </tr>\n",
       "    <tr>\n",
       "      <th>41</th>\n",
       "      <td>Fiji</td>\n",
       "      <td>0.502513</td>\n",
       "    </tr>\n",
       "    <tr>\n",
       "      <th>137</th>\n",
       "      <td>Uganda</td>\n",
       "      <td>0.531915</td>\n",
       "    </tr>\n",
       "    <tr>\n",
       "      <th>78</th>\n",
       "      <td>Luxembourg</td>\n",
       "      <td>0.555556</td>\n",
       "    </tr>\n",
       "    <tr>\n",
       "      <th>100</th>\n",
       "      <td>Nigeria</td>\n",
       "      <td>0.584795</td>\n",
       "    </tr>\n",
       "  </tbody>\n",
       "</table>\n",
       "</div>"
      ],
      "text/plain": [
       "        country  high_quality_perc\n",
       "42      Finland           0.174825\n",
       "131    Tanzania           0.245098\n",
       "95        Nepal           0.275482\n",
       "107        Peru           0.282486\n",
       "77    Lithuania           0.403226\n",
       "89      Moldova           0.469484\n",
       "41         Fiji           0.502513\n",
       "137      Uganda           0.531915\n",
       "78   Luxembourg           0.555556\n",
       "100     Nigeria           0.584795"
      ]
     },
     "execution_count": 322,
     "metadata": {},
     "output_type": "execute_result"
    }
   ],
   "source": [
    "#Top 10 countries with the lowest percentage of high quality articles are\n",
    "hq_asc.head(10)"
   ]
  },
  {
   "cell_type": "code",
   "execution_count": 323,
   "metadata": {
    "collapsed": true
   },
   "outputs": [],
   "source": [
    "hq_desc = hq_plot.sort_values(['high_quality_perc'],ascending=False, inplace=False, axis=0)"
   ]
  },
  {
   "cell_type": "code",
   "execution_count": 324,
   "metadata": {},
   "outputs": [
    {
     "data": {
      "text/html": [
       "<div>\n",
       "<style>\n",
       "    .dataframe thead tr:only-child th {\n",
       "        text-align: right;\n",
       "    }\n",
       "\n",
       "    .dataframe thead th {\n",
       "        text-align: left;\n",
       "    }\n",
       "\n",
       "    .dataframe tbody tr th {\n",
       "        vertical-align: top;\n",
       "    }\n",
       "</style>\n",
       "<table border=\"1\" class=\"dataframe\">\n",
       "  <thead>\n",
       "    <tr style=\"text-align: right;\">\n",
       "      <th></th>\n",
       "      <th>country</th>\n",
       "      <th>high_quality_perc</th>\n",
       "    </tr>\n",
       "  </thead>\n",
       "  <tbody>\n",
       "    <tr>\n",
       "      <th>67</th>\n",
       "      <td>Korea, North</td>\n",
       "      <td>23.076923</td>\n",
       "    </tr>\n",
       "    <tr>\n",
       "      <th>112</th>\n",
       "      <td>Romania</td>\n",
       "      <td>12.931034</td>\n",
       "    </tr>\n",
       "    <tr>\n",
       "      <th>115</th>\n",
       "      <td>Saudi Arabia</td>\n",
       "      <td>12.605042</td>\n",
       "    </tr>\n",
       "    <tr>\n",
       "      <th>22</th>\n",
       "      <td>Central African Republic</td>\n",
       "      <td>10.294118</td>\n",
       "    </tr>\n",
       "    <tr>\n",
       "      <th>111</th>\n",
       "      <td>Qatar</td>\n",
       "      <td>9.803922</td>\n",
       "    </tr>\n",
       "    <tr>\n",
       "      <th>52</th>\n",
       "      <td>Guinea-Bissau</td>\n",
       "      <td>9.523810</td>\n",
       "    </tr>\n",
       "    <tr>\n",
       "      <th>146</th>\n",
       "      <td>Vietnam</td>\n",
       "      <td>9.424084</td>\n",
       "    </tr>\n",
       "    <tr>\n",
       "      <th>12</th>\n",
       "      <td>Bhutan</td>\n",
       "      <td>9.090909</td>\n",
       "    </tr>\n",
       "    <tr>\n",
       "      <th>60</th>\n",
       "      <td>Ireland</td>\n",
       "      <td>8.136483</td>\n",
       "    </tr>\n",
       "    <tr>\n",
       "      <th>141</th>\n",
       "      <td>United States</td>\n",
       "      <td>7.832423</td>\n",
       "    </tr>\n",
       "  </tbody>\n",
       "</table>\n",
       "</div>"
      ],
      "text/plain": [
       "                      country  high_quality_perc\n",
       "67               Korea, North          23.076923\n",
       "112                   Romania          12.931034\n",
       "115              Saudi Arabia          12.605042\n",
       "22   Central African Republic          10.294118\n",
       "111                     Qatar           9.803922\n",
       "52              Guinea-Bissau           9.523810\n",
       "146                   Vietnam           9.424084\n",
       "12                     Bhutan           9.090909\n",
       "60                    Ireland           8.136483\n",
       "141             United States           7.832423"
      ]
     },
     "execution_count": 324,
     "metadata": {},
     "output_type": "execute_result"
    }
   ],
   "source": [
    "#Top 10 countries with the highest percentage of high quality articles are\n",
    "hq_desc.head(10)"
   ]
  },
  {
   "cell_type": "code",
   "execution_count": null,
   "metadata": {
    "collapsed": true
   },
   "outputs": [],
   "source": []
  }
 ],
 "metadata": {
  "kernelspec": {
   "display_name": "Python 3",
   "language": "python",
   "name": "python3"
  },
  "language_info": {
   "codemirror_mode": {
    "name": "ipython",
    "version": 3
   },
   "file_extension": ".py",
   "mimetype": "text/x-python",
   "name": "python",
   "nbconvert_exporter": "python",
   "pygments_lexer": "ipython3",
   "version": "3.6.1"
  }
 },
 "nbformat": 4,
 "nbformat_minor": 2
}
